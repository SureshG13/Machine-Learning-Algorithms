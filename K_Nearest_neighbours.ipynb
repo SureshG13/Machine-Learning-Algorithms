{
  "nbformat": 4,
  "nbformat_minor": 0,
  "metadata": {
    "colab": {
      "name": "K Nearest neighbours.ipynb",
      "provenance": [],
      "authorship_tag": "ABX9TyNw/C4fhNG8jIP4IdioQjYH",
      "include_colab_link": true
    },
    "kernelspec": {
      "name": "python3",
      "display_name": "Python 3"
    },
    "language_info": {
      "name": "python"
    }
  },
  "cells": [
    {
      "cell_type": "markdown",
      "metadata": {
        "id": "view-in-github",
        "colab_type": "text"
      },
      "source": [
        "<a href=\"https://colab.research.google.com/github/SureshG13/Machine-Learning-Algorithms/blob/main/K_Nearest_neighbours.ipynb\" target=\"_parent\"><img src=\"https://colab.research.google.com/assets/colab-badge.svg\" alt=\"Open In Colab\"/></a>"
      ]
    },
    {
      "cell_type": "code",
      "execution_count": 1,
      "metadata": {
        "id": "3elKJSBJBySs"
      },
      "outputs": [],
      "source": [
        "from collections import Counter\n",
        "import math"
      ]
    },
    {
      "cell_type": "code",
      "source": [
        "def knn(data, query, k, distance_fn, choice_fn):\n",
        "    neighbor_distances_and_indices = []\n",
        "    \n",
        "    # 3. For each example in the data\n",
        "    for index, example in enumerate(data):\n",
        "        # 3.1 Calculate the distance between the query example and the current\n",
        "        # example from the data.\n",
        "        distance = distance_fn(example[:-1], query)\n",
        "        \n",
        "        # 3.2 Add the distance and the index of the example to an ordered collection\n",
        "        neighbor_distances_and_indices.append((distance, index))\n",
        "    \n",
        "    # 4. Sort the ordered collection of distances and indices from\n",
        "    # smallest to largest (in ascending order) by the distances\n",
        "    sorted_neighbor_distances_and_indices = sorted(neighbor_distances_and_indices)\n",
        "    \n",
        "    # 5. Pick the first K entries from the sorted collection\n",
        "    k_nearest_distances_and_indices = sorted_neighbor_distances_and_indices[:k]\n",
        "    \n",
        "    # 6. Get the labels of the selected K entries\n",
        "    k_nearest_labels = [data[i][-1] for distance, i in k_nearest_distances_and_indices]\n",
        "\n",
        "    # 7. If regression (choice_fn = mean), return the average of the K labels\n",
        "    # 8. If classification (choice_fn = mode), return the mode of the K labels\n",
        "    return k_nearest_distances_and_indices , choice_fn(k_nearest_labels)"
      ],
      "metadata": {
        "id": "EOgbgKbnCw1_"
      },
      "execution_count": 3,
      "outputs": []
    },
    {
      "cell_type": "code",
      "source": [
        "def mean(labels):\n",
        "    return sum(labels) / len(labels)"
      ],
      "metadata": {
        "id": "dfCLOKy0C51i"
      },
      "execution_count": 4,
      "outputs": []
    },
    {
      "cell_type": "code",
      "source": [
        "def mode(labels):\n",
        "    return Counter(labels).most_common(1)[0][0]"
      ],
      "metadata": {
        "id": "1epspqCOC8v8"
      },
      "execution_count": 5,
      "outputs": []
    },
    {
      "cell_type": "code",
      "source": [
        "def euclidean_distance(point1, point2):\n",
        "    sum_squared_distance = 0\n",
        "    for i in range(len(point1)):\n",
        "        sum_squared_distance += math.pow(point1[i] - point2[i], 2)\n",
        "    return math.sqrt(sum_squared_distance)"
      ],
      "metadata": {
        "id": "A0aWTMD_C_Fc"
      },
      "execution_count": 6,
      "outputs": []
    },
    {
      "cell_type": "code",
      "source": [
        "def main():\n",
        "    '''\n",
        "    # Regression Data\n",
        "    # \n",
        "    # Column 0: height (inches)\n",
        "    # Column 1: weight (pounds)\n",
        "    '''\n",
        "    reg_data = [\n",
        "       [65.75, 112.99],\n",
        "       [71.52, 136.49],\n",
        "       [69.40, 153.03],\n",
        "       [68.22, 142.34],\n",
        "       [67.79, 144.30],\n",
        "       [68.70, 123.30],\n",
        "       [69.80, 141.49],\n",
        "       [70.01, 136.46],\n",
        "       [67.90, 112.37],\n",
        "       [66.49, 127.45],\n",
        "    ]\n",
        "    \n",
        "    # Question:\n",
        "    # Given the data we have, what's the best-guess at someone's weight if they are 60 inches tall?\n",
        "    reg_query = [60]\n",
        "    reg_k_nearest_neighbors, reg_prediction = knn(reg_data, reg_query, k=3, distance_fn=euclidean_distance, choice_fn=mean)\n",
        "    print(reg_k_nearest_neighbors)\n",
        "    print(\"Predicted value: \",reg_prediction)"
      ],
      "metadata": {
        "id": "wJuEUYotDB3q"
      },
      "execution_count": 11,
      "outputs": []
    },
    {
      "cell_type": "code",
      "source": [
        "if __name__ == '__main__':\n",
        "    main()"
      ],
      "metadata": {
        "colab": {
          "base_uri": "https://localhost:8080/"
        },
        "id": "LooNTnQcDj-U",
        "outputId": "42138c86-4aa5-458a-8d2b-69a55e9fc601"
      },
      "execution_count": 12,
      "outputs": [
        {
          "output_type": "stream",
          "name": "stdout",
          "text": [
            "[(5.75, 0), (6.489999999999995, 9), (7.790000000000006, 4)]\n",
            "Predicted value:  128.24666666666667\n"
          ]
        }
      ]
    },
    {
      "cell_type": "code",
      "source": [
        "def main():\n",
        "  '''\n",
        "    # Classification Data\n",
        "    # \n",
        "    # Column 0: age\n",
        "    # Column 1: likes pineapple\n",
        "    '''\n",
        "  clf_data = [\n",
        "       [22, 1],\n",
        "       [23, 1],\n",
        "       [21, 1],\n",
        "       [18, 1],\n",
        "       [19, 1],\n",
        "       [25, 0],\n",
        "       [27, 0],\n",
        "       [29, 0],\n",
        "       [31, 0],\n",
        "       [45, 0],\n",
        "    ]\n",
        "    # Question:\n",
        "    # Given the data we have, does a 33 year old like pineapples on their pizza?\n",
        "  clf_query = [33]\n",
        "  clf_k_nearest_neighbors, clf_prediction = knn(clf_data, clf_query, k=3, distance_fn=euclidean_distance, choice_fn=mode)\n",
        "  print(\"Predection: \",clf_prediction)\n",
        "\n",
        "\n",
        "if __name__ == '__main__':\n",
        "    main()"
      ],
      "metadata": {
        "colab": {
          "base_uri": "https://localhost:8080/"
        },
        "id": "_-nQjEFhDL4O",
        "outputId": "c3bc057b-ec95-4b63-e3f9-abd09c17b699"
      },
      "execution_count": 13,
      "outputs": [
        {
          "output_type": "stream",
          "name": "stdout",
          "text": [
            "Predection:  0\n"
          ]
        }
      ]
    },
    {
      "cell_type": "code",
      "source": [
        ""
      ],
      "metadata": {
        "id": "xTRWa48lEkkg"
      },
      "execution_count": null,
      "outputs": []
    }
  ]
}